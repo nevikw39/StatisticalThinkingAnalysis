{
 "cells": [
  {
   "cell_type": "code",
   "execution_count": 1,
   "metadata": {},
   "outputs": [
    {
     "name": "stderr",
     "output_type": "stream",
     "text": [
      "2023-06-03 22:54:17.314894: I tensorflow/core/util/port.cc:110] oneDNN custom operations are on. You may see slightly different numerical results due to floating-point round-off errors from different computation orders. To turn them off, set the environment variable `TF_ENABLE_ONEDNN_OPTS=0`.\n",
      "2023-06-03 22:54:17.358646: I tensorflow/core/platform/cpu_feature_guard.cc:182] This TensorFlow binary is optimized to use available CPU instructions in performance-critical operations.\n",
      "To enable the following instructions: AVX2 AVX512F AVX512_VNNI FMA, in other operations, rebuild TensorFlow with the appropriate compiler flags.\n",
      "2023-06-03 22:54:17.899797: W tensorflow/compiler/tf2tensorrt/utils/py_utils.cc:38] TF-TRT Warning: Could not find TensorRT\n"
     ]
    }
   ],
   "source": [
    "import numpy as np\n",
    "\n",
    "import tensorflow as tf\n",
    "from tensorflow.keras.models import Model, Sequential\n",
    "from tensorflow.keras.layers import Layer, Input, concatenate, Conv1D, MaxPooling1D, Conv2DTranspose, Lambda, \\\n",
    "    BatchNormalization, Bidirectional, LSTM, Dropout, Dense, InputLayer, Conv2D, MaxPooling2D, Flatten,\\\n",
    "    AveragePooling2D, GlobalAveragePooling2D, GlobalAveragePooling1D, AveragePooling1D, MultiHeadAttention,\\\n",
    "    LayerNormalization, Embedding, LeakyReLU, Conv1DTranspose"
   ]
  },
  {
   "cell_type": "code",
   "execution_count": 2,
   "metadata": {},
   "outputs": [],
   "source": [
    "N_TRAIN = 12500\n",
    "\n",
    "y_train = np.concatenate(\n",
    "    [np.zeros(N_TRAIN, dtype=int), np.ones(N_TRAIN, dtype=int)])\n"
   ]
  },
  {
   "cell_type": "code",
   "execution_count": 3,
   "metadata": {},
   "outputs": [
    {
     "name": "stdout",
     "output_type": "stream",
     "text": [
      "Model: \"sequential\"\n",
      "_________________________________________________________________\n",
      " Layer (type)                Output Shape              Param #   \n",
      "=================================================================\n",
      " dense (Dense)               (None, 1, 1)              72901     \n",
      "                                                                 \n",
      "=================================================================\n",
      "Total params: 72,901\n",
      "Trainable params: 72,901\n",
      "Non-trainable params: 0\n",
      "_________________________________________________________________\n"
     ]
    },
    {
     "name": "stderr",
     "output_type": "stream",
     "text": [
      "2023-06-03 22:54:57.131256: W tensorflow/core/common_runtime/gpu/gpu_device.cc:1956] Cannot dlopen some GPU libraries. Please make sure the missing libraries mentioned above are installed properly if you would like to use GPU. Follow the guide at https://www.tensorflow.org/install/gpu for how to download and setup the required libraries for your platform.\n",
      "Skipping registering GPU devices...\n"
     ]
    },
    {
     "name": "stdout",
     "output_type": "stream",
     "text": [
      "Epoch 1/100\n",
      "40/40 [==============================] - 4s 98ms/step - loss: 0.7156 - binary_accuracy: 0.6401 - precision: 0.5237 - recall: 0.4441 - val_loss: 0.9231 - val_binary_accuracy: 0.3812 - val_precision: 1.0000 - val_recall: 0.3812\n",
      "Epoch 2/100\n",
      "40/40 [==============================] - 1s 17ms/step - loss: 0.5108 - binary_accuracy: 0.7571 - precision: 0.7221 - recall: 0.5728 - val_loss: 0.7541 - val_binary_accuracy: 0.5622 - val_precision: 1.0000 - val_recall: 0.5622\n",
      "Epoch 3/100\n",
      "40/40 [==============================] - 1s 18ms/step - loss: 0.4888 - binary_accuracy: 0.7706 - precision: 0.7324 - recall: 0.6119 - val_loss: 0.6167 - val_binary_accuracy: 0.6800 - val_precision: 1.0000 - val_recall: 0.6800\n",
      "Epoch 4/100\n",
      "40/40 [==============================] - 1s 17ms/step - loss: 0.4748 - binary_accuracy: 0.7771 - precision: 0.7379 - recall: 0.6292 - val_loss: 0.7252 - val_binary_accuracy: 0.6008 - val_precision: 1.0000 - val_recall: 0.6008\n",
      "Epoch 5/100\n",
      "40/40 [==============================] - 1s 20ms/step - loss: 0.4551 - binary_accuracy: 0.7924 - precision: 0.7589 - recall: 0.6543 - val_loss: 0.7024 - val_binary_accuracy: 0.6218 - val_precision: 1.0000 - val_recall: 0.6218\n",
      "Epoch 6/100\n",
      "40/40 [==============================] - 1s 17ms/step - loss: 0.4451 - binary_accuracy: 0.8002 - precision: 0.7685 - recall: 0.6688 - val_loss: 0.8327 - val_binary_accuracy: 0.5360 - val_precision: 1.0000 - val_recall: 0.5360\n",
      "Epoch 7/100\n",
      "40/40 [==============================] - 1s 19ms/step - loss: 0.4327 - binary_accuracy: 0.8087 - precision: 0.7798 - recall: 0.6827 - val_loss: 0.8675 - val_binary_accuracy: 0.5206 - val_precision: 1.0000 - val_recall: 0.5206\n",
      "Epoch 8/100\n",
      "40/40 [==============================] - 1s 17ms/step - loss: 0.4258 - binary_accuracy: 0.8095 - precision: 0.7774 - recall: 0.6895 - val_loss: 0.5979 - val_binary_accuracy: 0.7044 - val_precision: 1.0000 - val_recall: 0.7044\n",
      "Epoch 9/100\n",
      "40/40 [==============================] - 1s 20ms/step - loss: 0.4233 - binary_accuracy: 0.8097 - precision: 0.7771 - recall: 0.6904 - val_loss: 0.5675 - val_binary_accuracy: 0.7232 - val_precision: 1.0000 - val_recall: 0.7232\n",
      "Epoch 10/100\n",
      "40/40 [==============================] - 1s 17ms/step - loss: 0.4119 - binary_accuracy: 0.8143 - precision: 0.7841 - recall: 0.6965 - val_loss: 0.6730 - val_binary_accuracy: 0.6572 - val_precision: 1.0000 - val_recall: 0.6572\n",
      "Epoch 11/100\n",
      "40/40 [==============================] - 1s 19ms/step - loss: 0.4056 - binary_accuracy: 0.8224 - precision: 0.7870 - recall: 0.7219 - val_loss: 0.8065 - val_binary_accuracy: 0.5806 - val_precision: 1.0000 - val_recall: 0.5806\n",
      "Epoch 12/100\n",
      "40/40 [==============================] - 1s 16ms/step - loss: 0.3947 - binary_accuracy: 0.8292 - precision: 0.8047 - recall: 0.7192 - val_loss: 0.5477 - val_binary_accuracy: 0.7380 - val_precision: 1.0000 - val_recall: 0.7380\n",
      "Epoch 13/100\n",
      "40/40 [==============================] - 1s 19ms/step - loss: 0.3863 - binary_accuracy: 0.8342 - precision: 0.8068 - recall: 0.7337 - val_loss: 0.6010 - val_binary_accuracy: 0.7046 - val_precision: 1.0000 - val_recall: 0.7046\n",
      "Epoch 14/100\n",
      "40/40 [==============================] - 1s 17ms/step - loss: 0.3797 - binary_accuracy: 0.8403 - precision: 0.8160 - recall: 0.7415 - val_loss: 0.7810 - val_binary_accuracy: 0.6012 - val_precision: 1.0000 - val_recall: 0.6012\n",
      "Epoch 15/100\n",
      "40/40 [==============================] - 1s 19ms/step - loss: 0.3813 - binary_accuracy: 0.8343 - precision: 0.8058 - recall: 0.7355 - val_loss: 0.6487 - val_binary_accuracy: 0.6780 - val_precision: 1.0000 - val_recall: 0.6780\n",
      "Epoch 16/100\n",
      "40/40 [==============================] - 1s 16ms/step - loss: 0.3692 - binary_accuracy: 0.8464 - precision: 0.8231 - recall: 0.7521 - val_loss: 0.9519 - val_binary_accuracy: 0.5098 - val_precision: 1.0000 - val_recall: 0.5098\n",
      "Epoch 17/100\n",
      "40/40 [==============================] - 1s 20ms/step - loss: 0.3699 - binary_accuracy: 0.8414 - precision: 0.8195 - recall: 0.7401 - val_loss: 0.7114 - val_binary_accuracy: 0.6492 - val_precision: 1.0000 - val_recall: 0.6492\n",
      "Epoch 18/100\n",
      "40/40 [==============================] - 1s 17ms/step - loss: 0.3595 - binary_accuracy: 0.8487 - precision: 0.8222 - recall: 0.7613 - val_loss: 0.6846 - val_binary_accuracy: 0.6622 - val_precision: 1.0000 - val_recall: 0.6622\n",
      "Epoch 19/100\n",
      "40/40 [==============================] - 1s 20ms/step - loss: 0.3627 - binary_accuracy: 0.8437 - precision: 0.8204 - recall: 0.7467 - val_loss: 0.7656 - val_binary_accuracy: 0.6190 - val_precision: 1.0000 - val_recall: 0.6190\n",
      "Epoch 20/100\n",
      "40/40 [==============================] - 1s 18ms/step - loss: 0.3565 - binary_accuracy: 0.8508 - precision: 0.8259 - recall: 0.7628 - val_loss: 0.8850 - val_binary_accuracy: 0.5562 - val_precision: 1.0000 - val_recall: 0.5562\n",
      "Epoch 21/100\n",
      "40/40 [==============================] - 1s 23ms/step - loss: 0.3493 - binary_accuracy: 0.8534 - precision: 0.8296 - recall: 0.7665 - val_loss: 0.7340 - val_binary_accuracy: 0.6420 - val_precision: 1.0000 - val_recall: 0.6420\n",
      "Epoch 22/100\n",
      "40/40 [==============================] - 1s 17ms/step - loss: 0.3416 - binary_accuracy: 0.8595 - precision: 0.8360 - recall: 0.7780 - val_loss: 0.8163 - val_binary_accuracy: 0.5986 - val_precision: 1.0000 - val_recall: 0.5986\n"
     ]
    },
    {
     "name": "stderr",
     "output_type": "stream",
     "text": [
      "2023-06-03 22:55:22.738008: I tensorflow/core/common_runtime/executor.cc:1197] [/device:CPU:0] (DEBUG INFO) Executor start aborting (this does not indicate an error and you can ignore this message): INVALID_ARGUMENT: You must feed a value for placeholder tensor 'input_1' with dtype float and shape [?,1,72900]\n",
      "\t [[{{node input_1}}]]\n",
      "2023-06-03 22:55:22.743143: I tensorflow/core/common_runtime/executor.cc:1197] [/device:CPU:0] (DEBUG INFO) Executor start aborting (this does not indicate an error and you can ignore this message): INVALID_ARGUMENT: You must feed a value for placeholder tensor 'input_1' with dtype float and shape [?,1,72900]\n",
      "\t [[{{node input_1}}]]\n",
      "2023-06-03 22:55:22.748388: I tensorflow/core/common_runtime/executor.cc:1197] [/device:CPU:0] (DEBUG INFO) Executor start aborting (this does not indicate an error and you can ignore this message): INVALID_ARGUMENT: You must feed a value for placeholder tensor 'inputs' with dtype float and shape [?,1,72900]\n",
      "\t [[{{node inputs}}]]\n",
      "2023-06-03 22:55:22.751449: I tensorflow/core/common_runtime/executor.cc:1197] [/device:CPU:0] (DEBUG INFO) Executor start aborting (this does not indicate an error and you can ignore this message): INVALID_ARGUMENT: You must feed a value for placeholder tensor 'input_1' with dtype float and shape [?,1,72900]\n",
      "\t [[{{node input_1}}]]\n",
      "2023-06-03 22:55:22.756861: I tensorflow/core/common_runtime/executor.cc:1197] [/device:CPU:0] (DEBUG INFO) Executor start aborting (this does not indicate an error and you can ignore this message): INVALID_ARGUMENT: You must feed a value for placeholder tensor 'inputs' with dtype float and shape [?,1,72900]\n",
      "\t [[{{node inputs}}]]\n",
      "2023-06-03 22:55:22.759917: I tensorflow/core/common_runtime/executor.cc:1197] [/device:CPU:0] (DEBUG INFO) Executor start aborting (this does not indicate an error and you can ignore this message): INVALID_ARGUMENT: You must feed a value for placeholder tensor 'input_1' with dtype float and shape [?,1,72900]\n",
      "\t [[{{node input_1}}]]\n",
      "2023-06-03 22:55:22.763706: I tensorflow/core/common_runtime/executor.cc:1197] [/device:CPU:0] (DEBUG INFO) Executor start aborting (this does not indicate an error and you can ignore this message): INVALID_ARGUMENT: You must feed a value for placeholder tensor 'inputs' with dtype float and shape [?,1,72900]\n",
      "\t [[{{node inputs}}]]\n",
      "2023-06-03 22:55:22.768632: I tensorflow/core/common_runtime/executor.cc:1197] [/device:CPU:0] (DEBUG INFO) Executor start aborting (this does not indicate an error and you can ignore this message): INVALID_ARGUMENT: You must feed a value for placeholder tensor 'inputs' with dtype float and shape [?,1,72900]\n",
      "\t [[{{node inputs}}]]\n",
      "2023-06-03 22:55:22.772693: I tensorflow/core/common_runtime/executor.cc:1197] [/device:CPU:0] (DEBUG INFO) Executor start aborting (this does not indicate an error and you can ignore this message): INVALID_ARGUMENT: You must feed a value for placeholder tensor 'inputs' with dtype float and shape [?,1,72900]\n",
      "\t [[{{node inputs}}]]\n",
      "2023-06-03 22:55:22.798887: I tensorflow/core/common_runtime/executor.cc:1197] [/device:CPU:0] (DEBUG INFO) Executor start aborting (this does not indicate an error and you can ignore this message): INVALID_ARGUMENT: You must feed a value for placeholder tensor 'input_1' with dtype float and shape [?,1,72900]\n",
      "\t [[{{node input_1}}]]\n",
      "2023-06-03 22:55:22.805114: I tensorflow/core/common_runtime/executor.cc:1197] [/device:CPU:0] (DEBUG INFO) Executor start aborting (this does not indicate an error and you can ignore this message): INVALID_ARGUMENT: You must feed a value for placeholder tensor 'inputs' with dtype float and shape [?,1,72900]\n",
      "\t [[{{node inputs}}]]\n",
      "2023-06-03 22:55:22.809187: I tensorflow/core/common_runtime/executor.cc:1197] [/device:CPU:0] (DEBUG INFO) Executor start aborting (this does not indicate an error and you can ignore this message): INVALID_ARGUMENT: You must feed a value for placeholder tensor 'inputs' with dtype float and shape [?,1,72900]\n",
      "\t [[{{node inputs}}]]\n",
      "2023-06-03 22:55:22.841564: I tensorflow/core/common_runtime/executor.cc:1197] [/device:CPU:0] (DEBUG INFO) Executor start aborting (this does not indicate an error and you can ignore this message): INVALID_ARGUMENT: You must feed a value for placeholder tensor 'inputs' with dtype float and shape [?,1,72900]\n",
      "\t [[{{node inputs}}]]\n",
      "WARNING:absl:Found untraced functions such as _update_step_xla while saving (showing 1 of 1). These functions will not be directly callable after loading.\n",
      "2023-06-03 22:55:22.878208: I tensorflow/core/common_runtime/executor.cc:1197] [/device:CPU:0] (DEBUG INFO) Executor start aborting (this does not indicate an error and you can ignore this message): INVALID_ARGUMENT: You must feed a value for placeholder tensor 'serving_default_input_1' with dtype float and shape [?,1,72900]\n",
      "\t [[{{node serving_default_input_1}}]]\n"
     ]
    },
    {
     "name": "stdout",
     "output_type": "stream",
     "text": [
      "INFO:tensorflow:Assets written to: model/assets\n"
     ]
    },
    {
     "name": "stderr",
     "output_type": "stream",
     "text": [
      "INFO:tensorflow:Assets written to: model/assets\n"
     ]
    }
   ],
   "source": [
    "x_train = np.concatenate([np.load(\"cat_hog.npy\"), np.load(\"dog_hog.npy\")])\n",
    "\n",
    "model = Sequential([\n",
    "    InputLayer(input_shape=(1, 72900)),\n",
    "    # Conv1D(1024, 5, padding='same', activation='relu'),\n",
    "    # Conv1D(512, 11, padding='same', activation='relu'),\n",
    "    # Conv1D(256, 17, padding='same', activation='relu'),\n",
    "    Dense(1, activation='sigmoid')\n",
    "])\n",
    "\n",
    "model.compile(optimizer=tf.optimizers.Adam(0.001),\n",
    "              loss=tf.keras.losses.binary_crossentropy,\n",
    "              metrics=[tf.keras.metrics.BinaryAccuracy(), tf.keras.metrics.Precision(), tf.keras.metrics.Recall()])\n",
    "\n",
    "model.summary()\n",
    "\n",
    "model.fit(np.reshape(x_train, (25000, 1, 72900)),\n",
    "          np.reshape(y_train, (25000, 1, 1)),\n",
    "          epochs=100, batch_size=500, validation_split=.2,\n",
    "          callbacks=[tf.keras.callbacks.EarlyStopping(monitor='val_loss', patience=10, restore_best_weights=True)])\n",
    "\n",
    "model.save(\"model\")\n",
    "\n",
    "del x_train, model"
   ]
  },
  {
   "cell_type": "code",
   "execution_count": 4,
   "metadata": {},
   "outputs": [
    {
     "name": "stdout",
     "output_type": "stream",
     "text": [
      "Model: \"sequential_1\"\n",
      "_________________________________________________________________\n",
      " Layer (type)                Output Shape              Param #   \n",
      "=================================================================\n",
      " dense_1 (Dense)             (None, 1, 1)              50302     \n",
      "                                                                 \n",
      "=================================================================\n",
      "Total params: 50,302\n",
      "Trainable params: 50,302\n",
      "Non-trainable params: 0\n",
      "_________________________________________________________________\n",
      "Epoch 1/100\n",
      "40/40 [==============================] - 3s 79ms/step - loss: 0.7152 - binary_accuracy: 0.5957 - precision_1: 0.4517 - recall_1: 0.3648 - val_loss: 0.7027 - val_binary_accuracy: 0.5504 - val_precision_1: 1.0000 - val_recall_1: 0.5504\n",
      "Epoch 2/100\n",
      "40/40 [==============================] - 1s 24ms/step - loss: 0.5595 - binary_accuracy: 0.7211 - precision_1: 0.7069 - recall_1: 0.4377 - val_loss: 0.7738 - val_binary_accuracy: 0.5024 - val_precision_1: 1.0000 - val_recall_1: 0.5024\n",
      "Epoch 3/100\n",
      "40/40 [==============================] - 1s 18ms/step - loss: 0.5320 - binary_accuracy: 0.7429 - precision_1: 0.7115 - recall_1: 0.5288 - val_loss: 0.6433 - val_binary_accuracy: 0.6466 - val_precision_1: 1.0000 - val_recall_1: 0.6466\n",
      "Epoch 4/100\n",
      "40/40 [==============================] - 0s 11ms/step - loss: 0.5073 - binary_accuracy: 0.7603 - precision_1: 0.7310 - recall_1: 0.5709 - val_loss: 0.7567 - val_binary_accuracy: 0.5552 - val_precision_1: 1.0000 - val_recall_1: 0.5552\n",
      "Epoch 5/100\n",
      "40/40 [==============================] - 1s 15ms/step - loss: 0.4923 - binary_accuracy: 0.7722 - precision_1: 0.7418 - recall_1: 0.6021 - val_loss: 0.7914 - val_binary_accuracy: 0.5366 - val_precision_1: 1.0000 - val_recall_1: 0.5366\n",
      "Epoch 6/100\n",
      "40/40 [==============================] - 0s 11ms/step - loss: 0.4797 - binary_accuracy: 0.7784 - precision_1: 0.7480 - recall_1: 0.6169 - val_loss: 0.7522 - val_binary_accuracy: 0.5776 - val_precision_1: 1.0000 - val_recall_1: 0.5776\n",
      "Epoch 7/100\n",
      "40/40 [==============================] - 0s 12ms/step - loss: 0.4700 - binary_accuracy: 0.7833 - precision_1: 0.7533 - recall_1: 0.6279 - val_loss: 0.5671 - val_binary_accuracy: 0.7166 - val_precision_1: 1.0000 - val_recall_1: 0.7166\n",
      "Epoch 8/100\n",
      "40/40 [==============================] - 0s 12ms/step - loss: 0.4616 - binary_accuracy: 0.7872 - precision_1: 0.7525 - recall_1: 0.6443 - val_loss: 0.7420 - val_binary_accuracy: 0.5932 - val_precision_1: 1.0000 - val_recall_1: 0.5932\n",
      "Epoch 9/100\n",
      "40/40 [==============================] - 0s 12ms/step - loss: 0.4509 - binary_accuracy: 0.7977 - precision_1: 0.7692 - recall_1: 0.6581 - val_loss: 0.7291 - val_binary_accuracy: 0.6054 - val_precision_1: 1.0000 - val_recall_1: 0.6054\n",
      "Epoch 10/100\n",
      "40/40 [==============================] - 0s 11ms/step - loss: 0.4453 - binary_accuracy: 0.8012 - precision_1: 0.7731 - recall_1: 0.6648 - val_loss: 0.9242 - val_binary_accuracy: 0.4766 - val_precision_1: 1.0000 - val_recall_1: 0.4766\n",
      "Epoch 11/100\n",
      "40/40 [==============================] - 0s 12ms/step - loss: 0.4478 - binary_accuracy: 0.7954 - precision_1: 0.7639 - recall_1: 0.6576 - val_loss: 0.7658 - val_binary_accuracy: 0.5888 - val_precision_1: 1.0000 - val_recall_1: 0.5888\n",
      "Epoch 12/100\n",
      "40/40 [==============================] - 0s 11ms/step - loss: 0.4311 - binary_accuracy: 0.8081 - precision_1: 0.7779 - recall_1: 0.6833 - val_loss: 0.7248 - val_binary_accuracy: 0.6184 - val_precision_1: 1.0000 - val_recall_1: 0.6184\n",
      "Epoch 13/100\n",
      "40/40 [==============================] - 0s 12ms/step - loss: 0.4292 - binary_accuracy: 0.8094 - precision_1: 0.7820 - recall_1: 0.6817 - val_loss: 0.7971 - val_binary_accuracy: 0.5716 - val_precision_1: 1.0000 - val_recall_1: 0.5716\n",
      "Epoch 14/100\n",
      "40/40 [==============================] - 0s 12ms/step - loss: 0.4177 - binary_accuracy: 0.8169 - precision_1: 0.7915 - recall_1: 0.6945 - val_loss: 0.7788 - val_binary_accuracy: 0.5852 - val_precision_1: 1.0000 - val_recall_1: 0.5852\n",
      "Epoch 15/100\n",
      "40/40 [==============================] - 1s 14ms/step - loss: 0.4223 - binary_accuracy: 0.8130 - precision_1: 0.7835 - recall_1: 0.6929 - val_loss: 1.0286 - val_binary_accuracy: 0.4388 - val_precision_1: 1.0000 - val_recall_1: 0.4388\n",
      "Epoch 16/100\n",
      "40/40 [==============================] - 0s 12ms/step - loss: 0.4123 - binary_accuracy: 0.8167 - precision_1: 0.7913 - recall_1: 0.6945 - val_loss: 0.8023 - val_binary_accuracy: 0.5754 - val_precision_1: 1.0000 - val_recall_1: 0.5754\n",
      "Epoch 17/100\n",
      "40/40 [==============================] - 1s 13ms/step - loss: 0.4042 - binary_accuracy: 0.8260 - precision_1: 0.8003 - recall_1: 0.7140 - val_loss: 0.7637 - val_binary_accuracy: 0.6008 - val_precision_1: 1.0000 - val_recall_1: 0.6008\n"
     ]
    },
    {
     "name": "stderr",
     "output_type": "stream",
     "text": [
      "2023-06-03 22:56:26.562344: I tensorflow/core/common_runtime/executor.cc:1197] [/device:CPU:0] (DEBUG INFO) Executor start aborting (this does not indicate an error and you can ignore this message): INVALID_ARGUMENT: You must feed a value for placeholder tensor 'input_2' with dtype float and shape [?,1,50301]\n",
      "\t [[{{node input_2}}]]\n",
      "2023-06-03 22:56:26.571132: I tensorflow/core/common_runtime/executor.cc:1197] [/device:CPU:0] (DEBUG INFO) Executor start aborting (this does not indicate an error and you can ignore this message): INVALID_ARGUMENT: You must feed a value for placeholder tensor 'input_2' with dtype float and shape [?,1,50301]\n",
      "\t [[{{node input_2}}]]\n",
      "2023-06-03 22:56:26.581102: I tensorflow/core/common_runtime/executor.cc:1197] [/device:CPU:0] (DEBUG INFO) Executor start aborting (this does not indicate an error and you can ignore this message): INVALID_ARGUMENT: You must feed a value for placeholder tensor 'inputs' with dtype float and shape [?,1,50301]\n",
      "\t [[{{node inputs}}]]\n",
      "2023-06-03 22:56:26.586879: I tensorflow/core/common_runtime/executor.cc:1197] [/device:CPU:0] (DEBUG INFO) Executor start aborting (this does not indicate an error and you can ignore this message): INVALID_ARGUMENT: You must feed a value for placeholder tensor 'input_2' with dtype float and shape [?,1,50301]\n",
      "\t [[{{node input_2}}]]\n",
      "2023-06-03 22:56:26.597025: I tensorflow/core/common_runtime/executor.cc:1197] [/device:CPU:0] (DEBUG INFO) Executor start aborting (this does not indicate an error and you can ignore this message): INVALID_ARGUMENT: You must feed a value for placeholder tensor 'inputs' with dtype float and shape [?,1,50301]\n",
      "\t [[{{node inputs}}]]\n",
      "2023-06-03 22:56:26.602995: I tensorflow/core/common_runtime/executor.cc:1197] [/device:CPU:0] (DEBUG INFO) Executor start aborting (this does not indicate an error and you can ignore this message): INVALID_ARGUMENT: You must feed a value for placeholder tensor 'input_2' with dtype float and shape [?,1,50301]\n",
      "\t [[{{node input_2}}]]\n",
      "2023-06-03 22:56:26.610707: I tensorflow/core/common_runtime/executor.cc:1197] [/device:CPU:0] (DEBUG INFO) Executor start aborting (this does not indicate an error and you can ignore this message): INVALID_ARGUMENT: You must feed a value for placeholder tensor 'inputs' with dtype float and shape [?,1,50301]\n",
      "\t [[{{node inputs}}]]\n",
      "2023-06-03 22:56:26.619501: I tensorflow/core/common_runtime/executor.cc:1197] [/device:CPU:0] (DEBUG INFO) Executor start aborting (this does not indicate an error and you can ignore this message): INVALID_ARGUMENT: You must feed a value for placeholder tensor 'inputs' with dtype float and shape [?,1,50301]\n",
      "\t [[{{node inputs}}]]\n",
      "2023-06-03 22:56:26.627581: I tensorflow/core/common_runtime/executor.cc:1197] [/device:CPU:0] (DEBUG INFO) Executor start aborting (this does not indicate an error and you can ignore this message): INVALID_ARGUMENT: You must feed a value for placeholder tensor 'inputs' with dtype float and shape [?,1,50301]\n",
      "\t [[{{node inputs}}]]\n",
      "2023-06-03 22:56:26.649140: I tensorflow/core/common_runtime/executor.cc:1197] [/device:CPU:0] (DEBUG INFO) Executor start aborting (this does not indicate an error and you can ignore this message): INVALID_ARGUMENT: You must feed a value for placeholder tensor 'input_2' with dtype float and shape [?,1,50301]\n",
      "\t [[{{node input_2}}]]\n",
      "2023-06-03 22:56:26.661080: I tensorflow/core/common_runtime/executor.cc:1197] [/device:CPU:0] (DEBUG INFO) Executor start aborting (this does not indicate an error and you can ignore this message): INVALID_ARGUMENT: You must feed a value for placeholder tensor 'inputs' with dtype float and shape [?,1,50301]\n",
      "\t [[{{node inputs}}]]\n",
      "2023-06-03 22:56:26.669206: I tensorflow/core/common_runtime/executor.cc:1197] [/device:CPU:0] (DEBUG INFO) Executor start aborting (this does not indicate an error and you can ignore this message): INVALID_ARGUMENT: You must feed a value for placeholder tensor 'inputs' with dtype float and shape [?,1,50301]\n",
      "\t [[{{node inputs}}]]\n",
      "2023-06-03 22:56:26.736664: I tensorflow/core/common_runtime/executor.cc:1197] [/device:CPU:0] (DEBUG INFO) Executor start aborting (this does not indicate an error and you can ignore this message): INVALID_ARGUMENT: You must feed a value for placeholder tensor 'inputs' with dtype float and shape [?,1,50301]\n",
      "\t [[{{node inputs}}]]\n",
      "WARNING:absl:Found untraced functions such as _update_step_xla while saving (showing 1 of 1). These functions will not be directly callable after loading.\n"
     ]
    },
    {
     "name": "stdout",
     "output_type": "stream",
     "text": [
      "INFO:tensorflow:Assets written to: model_pearson/assets\n"
     ]
    },
    {
     "name": "stderr",
     "output_type": "stream",
     "text": [
      "2023-06-03 22:56:26.808947: I tensorflow/core/common_runtime/executor.cc:1197] [/device:CPU:0] (DEBUG INFO) Executor start aborting (this does not indicate an error and you can ignore this message): INVALID_ARGUMENT: You must feed a value for placeholder tensor 'serving_default_input_2' with dtype float and shape [?,1,50301]\n",
      "\t [[{{node serving_default_input_2}}]]\n",
      "INFO:tensorflow:Assets written to: model_pearson/assets\n"
     ]
    }
   ],
   "source": [
    "x_train_pearson = np.load(\"pearson.npy\")\n",
    "\n",
    "model_pearson = Sequential([\n",
    "    InputLayer(input_shape=(1, 50301)),\n",
    "    # Conv1D(1024, 5, padding='same', activation='relu'),\n",
    "    # Conv1D(512, 11, padding='same', activation='relu'),\n",
    "    # Conv1D(256, 17, padding='same', activation='relu'),\n",
    "    Dense(1, activation='sigmoid')\n",
    "])\n",
    "\n",
    "model_pearson.compile(optimizer=tf.optimizers.Adam(0.001),\n",
    "                      loss=tf.keras.losses.binary_crossentropy,\n",
    "                      metrics=[tf.keras.metrics.BinaryAccuracy(), tf.keras.metrics.Precision(), tf.keras.metrics.Recall()])\n",
    "\n",
    "model_pearson.summary()\n",
    "\n",
    "model_pearson.fit(np.reshape(x_train_pearson, (25000, 1, 50301)),\n",
    "                  np.reshape(y_train, (25000, 1, 1)),\n",
    "                  epochs=100, batch_size=500, validation_split=.2,\n",
    "                  callbacks=[tf.keras.callbacks.EarlyStopping(monitor='val_loss', patience=10, restore_best_weights=True)])\n",
    "\n",
    "model_pearson.save(\"model_pearson\")\n",
    "\n",
    "del x_train_pearson, model_pearson"
   ]
  },
  {
   "cell_type": "code",
   "execution_count": 5,
   "metadata": {},
   "outputs": [
    {
     "name": "stdout",
     "output_type": "stream",
     "text": [
      "Model: \"sequential_2\"\n",
      "_________________________________________________________________\n",
      " Layer (type)                Output Shape              Param #   \n",
      "=================================================================\n",
      " dense_2 (Dense)             (None, 1, 1)              50302     \n",
      "                                                                 \n",
      "=================================================================\n",
      "Total params: 50,302\n",
      "Trainable params: 50,302\n",
      "Non-trainable params: 0\n",
      "_________________________________________________________________\n",
      "Epoch 1/100\n",
      "40/40 [==============================] - 3s 76ms/step - loss: 0.6825 - binary_accuracy: 0.6295 - precision_2: 0.5073 - recall_2: 0.4201 - val_loss: 0.6082 - val_binary_accuracy: 0.6964 - val_precision_2: 1.0000 - val_recall_2: 0.6964\n",
      "Epoch 2/100\n",
      "40/40 [==============================] - 1s 15ms/step - loss: 0.5181 - binary_accuracy: 0.7503 - precision_2: 0.7080 - recall_2: 0.5688 - val_loss: 0.7204 - val_binary_accuracy: 0.5958 - val_precision_2: 1.0000 - val_recall_2: 0.5958\n",
      "Epoch 3/100\n",
      "40/40 [==============================] - 1s 17ms/step - loss: 0.4946 - binary_accuracy: 0.7666 - precision_2: 0.7284 - recall_2: 0.6019 - val_loss: 0.6216 - val_binary_accuracy: 0.6756 - val_precision_2: 1.0000 - val_recall_2: 0.6756\n",
      "Epoch 4/100\n",
      "40/40 [==============================] - 1s 14ms/step - loss: 0.4800 - binary_accuracy: 0.7766 - precision_2: 0.7370 - recall_2: 0.6285 - val_loss: 0.5833 - val_binary_accuracy: 0.7044 - val_precision_2: 1.0000 - val_recall_2: 0.7044\n",
      "Epoch 5/100\n",
      "40/40 [==============================] - 1s 13ms/step - loss: 0.4679 - binary_accuracy: 0.7833 - precision_2: 0.7453 - recall_2: 0.6415 - val_loss: 0.6673 - val_binary_accuracy: 0.6478 - val_precision_2: 1.0000 - val_recall_2: 0.6478\n",
      "Epoch 6/100\n",
      "40/40 [==============================] - 1s 16ms/step - loss: 0.4593 - binary_accuracy: 0.7885 - precision_2: 0.7503 - recall_2: 0.6535 - val_loss: 0.6019 - val_binary_accuracy: 0.6942 - val_precision_2: 1.0000 - val_recall_2: 0.6942\n",
      "Epoch 7/100\n",
      "40/40 [==============================] - 1s 13ms/step - loss: 0.4492 - binary_accuracy: 0.7962 - precision_2: 0.7605 - recall_2: 0.6661 - val_loss: 0.8383 - val_binary_accuracy: 0.5300 - val_precision_2: 1.0000 - val_recall_2: 0.5300\n",
      "Epoch 8/100\n",
      "40/40 [==============================] - 1s 15ms/step - loss: 0.4426 - binary_accuracy: 0.7994 - precision_2: 0.7704 - recall_2: 0.6624 - val_loss: 0.6415 - val_binary_accuracy: 0.6714 - val_precision_2: 1.0000 - val_recall_2: 0.6714\n",
      "Epoch 9/100\n",
      "40/40 [==============================] - 1s 13ms/step - loss: 0.4325 - binary_accuracy: 0.8074 - precision_2: 0.7760 - recall_2: 0.6840 - val_loss: 0.6795 - val_binary_accuracy: 0.6482 - val_precision_2: 1.0000 - val_recall_2: 0.6482\n",
      "Epoch 10/100\n",
      "40/40 [==============================] - 1s 14ms/step - loss: 0.4258 - binary_accuracy: 0.8119 - precision_2: 0.7805 - recall_2: 0.6933 - val_loss: 0.7910 - val_binary_accuracy: 0.5814 - val_precision_2: 1.0000 - val_recall_2: 0.5814\n",
      "Epoch 11/100\n",
      "40/40 [==============================] - 1s 14ms/step - loss: 0.4192 - binary_accuracy: 0.8159 - precision_2: 0.7861 - recall_2: 0.6992 - val_loss: 0.5452 - val_binary_accuracy: 0.7368 - val_precision_2: 1.0000 - val_recall_2: 0.7368\n",
      "Epoch 12/100\n",
      "40/40 [==============================] - 1s 15ms/step - loss: 0.4129 - binary_accuracy: 0.8192 - precision_2: 0.7899 - recall_2: 0.7056 - val_loss: 0.6551 - val_binary_accuracy: 0.6684 - val_precision_2: 1.0000 - val_recall_2: 0.6684\n",
      "Epoch 13/100\n",
      "40/40 [==============================] - 1s 14ms/step - loss: 0.4082 - binary_accuracy: 0.8229 - precision_2: 0.7961 - recall_2: 0.7095 - val_loss: 0.6570 - val_binary_accuracy: 0.6702 - val_precision_2: 1.0000 - val_recall_2: 0.6702\n",
      "Epoch 14/100\n",
      "40/40 [==============================] - 1s 14ms/step - loss: 0.4036 - binary_accuracy: 0.8240 - precision_2: 0.7983 - recall_2: 0.7101 - val_loss: 0.6324 - val_binary_accuracy: 0.6850 - val_precision_2: 1.0000 - val_recall_2: 0.6850\n",
      "Epoch 15/100\n",
      "40/40 [==============================] - 1s 15ms/step - loss: 0.3969 - binary_accuracy: 0.8295 - precision_2: 0.8015 - recall_2: 0.7248 - val_loss: 0.7191 - val_binary_accuracy: 0.6384 - val_precision_2: 1.0000 - val_recall_2: 0.6384\n",
      "Epoch 16/100\n",
      "40/40 [==============================] - 1s 17ms/step - loss: 0.3930 - binary_accuracy: 0.8305 - precision_2: 0.8040 - recall_2: 0.7247 - val_loss: 0.6486 - val_binary_accuracy: 0.6786 - val_precision_2: 1.0000 - val_recall_2: 0.6786\n",
      "Epoch 17/100\n",
      "40/40 [==============================] - 1s 13ms/step - loss: 0.3910 - binary_accuracy: 0.8284 - precision_2: 0.7996 - recall_2: 0.7237 - val_loss: 0.7622 - val_binary_accuracy: 0.6144 - val_precision_2: 1.0000 - val_recall_2: 0.6144\n",
      "Epoch 18/100\n",
      "40/40 [==============================] - 1s 16ms/step - loss: 0.3890 - binary_accuracy: 0.8329 - precision_2: 0.8063 - recall_2: 0.7299 - val_loss: 0.7676 - val_binary_accuracy: 0.6144 - val_precision_2: 1.0000 - val_recall_2: 0.6144\n",
      "Epoch 19/100\n",
      "40/40 [==============================] - 1s 18ms/step - loss: 0.3860 - binary_accuracy: 0.8320 - precision_2: 0.7988 - recall_2: 0.7379 - val_loss: 1.0257 - val_binary_accuracy: 0.4688 - val_precision_2: 1.0000 - val_recall_2: 0.4688\n",
      "Epoch 20/100\n",
      "40/40 [==============================] - 1s 13ms/step - loss: 0.3809 - binary_accuracy: 0.8357 - precision_2: 0.8082 - recall_2: 0.7369 - val_loss: 0.9944 - val_binary_accuracy: 0.4908 - val_precision_2: 1.0000 - val_recall_2: 0.4908\n",
      "Epoch 21/100\n",
      "40/40 [==============================] - 0s 12ms/step - loss: 0.3750 - binary_accuracy: 0.8381 - precision_2: 0.8126 - recall_2: 0.7387 - val_loss: 0.8773 - val_binary_accuracy: 0.5564 - val_precision_2: 1.0000 - val_recall_2: 0.5564\n"
     ]
    },
    {
     "name": "stderr",
     "output_type": "stream",
     "text": [
      "2023-06-03 22:57:12.635080: I tensorflow/core/common_runtime/executor.cc:1197] [/device:CPU:0] (DEBUG INFO) Executor start aborting (this does not indicate an error and you can ignore this message): INVALID_ARGUMENT: You must feed a value for placeholder tensor 'input_3' with dtype float and shape [?,1,50301]\n",
      "\t [[{{node input_3}}]]\n",
      "2023-06-03 22:57:12.643094: I tensorflow/core/common_runtime/executor.cc:1197] [/device:CPU:0] (DEBUG INFO) Executor start aborting (this does not indicate an error and you can ignore this message): INVALID_ARGUMENT: You must feed a value for placeholder tensor 'input_3' with dtype float and shape [?,1,50301]\n",
      "\t [[{{node input_3}}]]\n",
      "2023-06-03 22:57:12.652132: I tensorflow/core/common_runtime/executor.cc:1197] [/device:CPU:0] (DEBUG INFO) Executor start aborting (this does not indicate an error and you can ignore this message): INVALID_ARGUMENT: You must feed a value for placeholder tensor 'inputs' with dtype float and shape [?,1,50301]\n",
      "\t [[{{node inputs}}]]\n",
      "2023-06-03 22:57:12.657468: I tensorflow/core/common_runtime/executor.cc:1197] [/device:CPU:0] (DEBUG INFO) Executor start aborting (this does not indicate an error and you can ignore this message): INVALID_ARGUMENT: You must feed a value for placeholder tensor 'input_3' with dtype float and shape [?,1,50301]\n",
      "\t [[{{node input_3}}]]\n",
      "2023-06-03 22:57:12.666488: I tensorflow/core/common_runtime/executor.cc:1197] [/device:CPU:0] (DEBUG INFO) Executor start aborting (this does not indicate an error and you can ignore this message): INVALID_ARGUMENT: You must feed a value for placeholder tensor 'inputs' with dtype float and shape [?,1,50301]\n",
      "\t [[{{node inputs}}]]\n",
      "2023-06-03 22:57:12.671702: I tensorflow/core/common_runtime/executor.cc:1197] [/device:CPU:0] (DEBUG INFO) Executor start aborting (this does not indicate an error and you can ignore this message): INVALID_ARGUMENT: You must feed a value for placeholder tensor 'input_3' with dtype float and shape [?,1,50301]\n",
      "\t [[{{node input_3}}]]\n",
      "2023-06-03 22:57:12.678291: I tensorflow/core/common_runtime/executor.cc:1197] [/device:CPU:0] (DEBUG INFO) Executor start aborting (this does not indicate an error and you can ignore this message): INVALID_ARGUMENT: You must feed a value for placeholder tensor 'inputs' with dtype float and shape [?,1,50301]\n",
      "\t [[{{node inputs}}]]\n",
      "2023-06-03 22:57:12.686870: I tensorflow/core/common_runtime/executor.cc:1197] [/device:CPU:0] (DEBUG INFO) Executor start aborting (this does not indicate an error and you can ignore this message): INVALID_ARGUMENT: You must feed a value for placeholder tensor 'inputs' with dtype float and shape [?,1,50301]\n",
      "\t [[{{node inputs}}]]\n",
      "2023-06-03 22:57:12.693919: I tensorflow/core/common_runtime/executor.cc:1197] [/device:CPU:0] (DEBUG INFO) Executor start aborting (this does not indicate an error and you can ignore this message): INVALID_ARGUMENT: You must feed a value for placeholder tensor 'inputs' with dtype float and shape [?,1,50301]\n",
      "\t [[{{node inputs}}]]\n",
      "2023-06-03 22:57:12.711249: I tensorflow/core/common_runtime/executor.cc:1197] [/device:CPU:0] (DEBUG INFO) Executor start aborting (this does not indicate an error and you can ignore this message): INVALID_ARGUMENT: You must feed a value for placeholder tensor 'input_3' with dtype float and shape [?,1,50301]\n",
      "\t [[{{node input_3}}]]\n",
      "2023-06-03 22:57:12.721684: I tensorflow/core/common_runtime/executor.cc:1197] [/device:CPU:0] (DEBUG INFO) Executor start aborting (this does not indicate an error and you can ignore this message): INVALID_ARGUMENT: You must feed a value for placeholder tensor 'inputs' with dtype float and shape [?,1,50301]\n",
      "\t [[{{node inputs}}]]\n",
      "2023-06-03 22:57:12.728814: I tensorflow/core/common_runtime/executor.cc:1197] [/device:CPU:0] (DEBUG INFO) Executor start aborting (this does not indicate an error and you can ignore this message): INVALID_ARGUMENT: You must feed a value for placeholder tensor 'inputs' with dtype float and shape [?,1,50301]\n",
      "\t [[{{node inputs}}]]\n",
      "2023-06-03 22:57:12.786941: I tensorflow/core/common_runtime/executor.cc:1197] [/device:CPU:0] (DEBUG INFO) Executor start aborting (this does not indicate an error and you can ignore this message): INVALID_ARGUMENT: You must feed a value for placeholder tensor 'inputs' with dtype float and shape [?,1,50301]\n",
      "\t [[{{node inputs}}]]\n",
      "WARNING:absl:Found untraced functions such as _update_step_xla while saving (showing 1 of 1). These functions will not be directly callable after loading.\n"
     ]
    },
    {
     "name": "stdout",
     "output_type": "stream",
     "text": [
      "INFO:tensorflow:Assets written to: model_chi_square/assets\n"
     ]
    },
    {
     "name": "stderr",
     "output_type": "stream",
     "text": [
      "2023-06-03 22:57:12.851198: I tensorflow/core/common_runtime/executor.cc:1197] [/device:CPU:0] (DEBUG INFO) Executor start aborting (this does not indicate an error and you can ignore this message): INVALID_ARGUMENT: You must feed a value for placeholder tensor 'serving_default_input_3' with dtype float and shape [?,1,50301]\n",
      "\t [[{{node serving_default_input_3}}]]\n",
      "INFO:tensorflow:Assets written to: model_chi_square/assets\n"
     ]
    }
   ],
   "source": [
    "x_train_chi_square = np.load(\"chi_square.npy\")\n",
    "\n",
    "model_chi_square=Sequential([\n",
    "    InputLayer(input_shape=(1, 50301)),\n",
    "    # Conv1D(1024, 5, padding='same', activation='relu'),\n",
    "    # Conv1D(512, 11, padding='same', activation='relu'),\n",
    "    # Conv1D(256, 17, padding='same', activation='relu'),\n",
    "    Dense(1, activation='sigmoid')\n",
    "])\n",
    "\n",
    "model_chi_square.compile(optimizer = tf.optimizers.Adam(0.001),\n",
    "                         loss = tf.keras.losses.binary_crossentropy,\n",
    "                         metrics = [tf.keras.metrics.BinaryAccuracy(), tf.keras.metrics.Precision(), tf.keras.metrics.Recall()])\n",
    "\n",
    "model_chi_square.summary()\n",
    "\n",
    "model_chi_square.fit(np.reshape(x_train_chi_square, (25000, 1, 50301)),\n",
    "                     np.reshape(y_train, (25000, 1, 1)),\n",
    "                     epochs=100, batch_size=500, validation_split=.2,\n",
    "                     callbacks=[tf.keras.callbacks.EarlyStopping(monitor='val_loss', patience=10, restore_best_weights=True)])\n",
    "\n",
    "model_chi_square.save(\"model_chi_square\")\n",
    "\n",
    "del x_train_chi_square, model_chi_square"
   ]
  },
  {
   "cell_type": "code",
   "execution_count": 6,
   "metadata": {},
   "outputs": [
    {
     "name": "stdout",
     "output_type": "stream",
     "text": [
      "Model: \"sequential_3\"\n",
      "_________________________________________________________________\n",
      " Layer (type)                Output Shape              Param #   \n",
      "=================================================================\n",
      " dense_3 (Dense)             (None, 1, 1)              50302     \n",
      "                                                                 \n",
      "=================================================================\n",
      "Total params: 50,302\n",
      "Trainable params: 50,302\n",
      "Non-trainable params: 0\n",
      "_________________________________________________________________\n",
      "Epoch 1/100\n",
      "40/40 [==============================] - 3s 73ms/step - loss: 0.6698 - binary_accuracy: 0.6507 - precision_3: 0.5442 - recall_3: 0.4215 - val_loss: 0.6552 - val_binary_accuracy: 0.6556 - val_precision_3: 1.0000 - val_recall_3: 0.6556\n",
      "Epoch 2/100\n",
      "40/40 [==============================] - 1s 15ms/step - loss: 0.5173 - binary_accuracy: 0.7502 - precision_3: 0.7110 - recall_3: 0.5628 - val_loss: 0.5117 - val_binary_accuracy: 0.7726 - val_precision_3: 1.0000 - val_recall_3: 0.7726\n",
      "Epoch 3/100\n",
      "40/40 [==============================] - 1s 14ms/step - loss: 0.5012 - binary_accuracy: 0.7607 - precision_3: 0.7144 - recall_3: 0.6029 - val_loss: 0.8293 - val_binary_accuracy: 0.5136 - val_precision_3: 1.0000 - val_recall_3: 0.5136\n",
      "Epoch 4/100\n",
      "40/40 [==============================] - 1s 15ms/step - loss: 0.4763 - binary_accuracy: 0.7794 - precision_3: 0.7422 - recall_3: 0.6311 - val_loss: 0.8024 - val_binary_accuracy: 0.5354 - val_precision_3: 1.0000 - val_recall_3: 0.5354\n",
      "Epoch 5/100\n",
      "40/40 [==============================] - 1s 15ms/step - loss: 0.4658 - binary_accuracy: 0.7864 - precision_3: 0.7543 - recall_3: 0.6384 - val_loss: 0.6227 - val_binary_accuracy: 0.6750 - val_precision_3: 1.0000 - val_recall_3: 0.6750\n",
      "Epoch 6/100\n",
      "40/40 [==============================] - 1s 15ms/step - loss: 0.4562 - binary_accuracy: 0.7921 - precision_3: 0.7571 - recall_3: 0.6559 - val_loss: 0.5603 - val_binary_accuracy: 0.7238 - val_precision_3: 1.0000 - val_recall_3: 0.7238\n",
      "Epoch 7/100\n",
      "40/40 [==============================] - 1s 14ms/step - loss: 0.4473 - binary_accuracy: 0.7987 - precision_3: 0.7631 - recall_3: 0.6717 - val_loss: 0.7489 - val_binary_accuracy: 0.5940 - val_precision_3: 1.0000 - val_recall_3: 0.5940\n",
      "Epoch 8/100\n",
      "40/40 [==============================] - 1s 15ms/step - loss: 0.4450 - binary_accuracy: 0.7960 - precision_3: 0.7580 - recall_3: 0.6699 - val_loss: 0.7141 - val_binary_accuracy: 0.6242 - val_precision_3: 1.0000 - val_recall_3: 0.6242\n",
      "Epoch 9/100\n",
      "40/40 [==============================] - 1s 13ms/step - loss: 0.4296 - binary_accuracy: 0.8080 - precision_3: 0.7774 - recall_3: 0.6839 - val_loss: 0.6298 - val_binary_accuracy: 0.6798 - val_precision_3: 1.0000 - val_recall_3: 0.6798\n",
      "Epoch 10/100\n",
      "40/40 [==============================] - 1s 17ms/step - loss: 0.4286 - binary_accuracy: 0.8090 - precision_3: 0.7733 - recall_3: 0.6941 - val_loss: 0.9300 - val_binary_accuracy: 0.4914 - val_precision_3: 1.0000 - val_recall_3: 0.4914\n",
      "Epoch 11/100\n",
      "40/40 [==============================] - 0s 12ms/step - loss: 0.4249 - binary_accuracy: 0.8104 - precision_3: 0.7810 - recall_3: 0.6868 - val_loss: 0.7692 - val_binary_accuracy: 0.5952 - val_precision_3: 1.0000 - val_recall_3: 0.5952\n",
      "Epoch 12/100\n",
      "40/40 [==============================] - 1s 14ms/step - loss: 0.4169 - binary_accuracy: 0.8163 - precision_3: 0.7827 - recall_3: 0.7063 - val_loss: 0.9690 - val_binary_accuracy: 0.4756 - val_precision_3: 1.0000 - val_recall_3: 0.4756\n"
     ]
    },
    {
     "name": "stderr",
     "output_type": "stream",
     "text": [
      "2023-06-03 22:57:56.920017: I tensorflow/core/common_runtime/executor.cc:1197] [/device:CPU:0] (DEBUG INFO) Executor start aborting (this does not indicate an error and you can ignore this message): INVALID_ARGUMENT: You must feed a value for placeholder tensor 'input_4' with dtype float and shape [?,1,50301]\n",
      "\t [[{{node input_4}}]]\n",
      "2023-06-03 22:57:56.928007: I tensorflow/core/common_runtime/executor.cc:1197] [/device:CPU:0] (DEBUG INFO) Executor start aborting (this does not indicate an error and you can ignore this message): INVALID_ARGUMENT: You must feed a value for placeholder tensor 'input_4' with dtype float and shape [?,1,50301]\n",
      "\t [[{{node input_4}}]]\n",
      "2023-06-03 22:57:56.937166: I tensorflow/core/common_runtime/executor.cc:1197] [/device:CPU:0] (DEBUG INFO) Executor start aborting (this does not indicate an error and you can ignore this message): INVALID_ARGUMENT: You must feed a value for placeholder tensor 'inputs' with dtype float and shape [?,1,50301]\n",
      "\t [[{{node inputs}}]]\n",
      "2023-06-03 22:57:56.942514: I tensorflow/core/common_runtime/executor.cc:1197] [/device:CPU:0] (DEBUG INFO) Executor start aborting (this does not indicate an error and you can ignore this message): INVALID_ARGUMENT: You must feed a value for placeholder tensor 'input_4' with dtype float and shape [?,1,50301]\n",
      "\t [[{{node input_4}}]]\n",
      "2023-06-03 22:57:56.951879: I tensorflow/core/common_runtime/executor.cc:1197] [/device:CPU:0] (DEBUG INFO) Executor start aborting (this does not indicate an error and you can ignore this message): INVALID_ARGUMENT: You must feed a value for placeholder tensor 'inputs' with dtype float and shape [?,1,50301]\n",
      "\t [[{{node inputs}}]]\n",
      "2023-06-03 22:57:56.957238: I tensorflow/core/common_runtime/executor.cc:1197] [/device:CPU:0] (DEBUG INFO) Executor start aborting (this does not indicate an error and you can ignore this message): INVALID_ARGUMENT: You must feed a value for placeholder tensor 'input_4' with dtype float and shape [?,1,50301]\n",
      "\t [[{{node input_4}}]]\n",
      "2023-06-03 22:57:56.964161: I tensorflow/core/common_runtime/executor.cc:1197] [/device:CPU:0] (DEBUG INFO) Executor start aborting (this does not indicate an error and you can ignore this message): INVALID_ARGUMENT: You must feed a value for placeholder tensor 'inputs' with dtype float and shape [?,1,50301]\n",
      "\t [[{{node inputs}}]]\n",
      "2023-06-03 22:57:56.972450: I tensorflow/core/common_runtime/executor.cc:1197] [/device:CPU:0] (DEBUG INFO) Executor start aborting (this does not indicate an error and you can ignore this message): INVALID_ARGUMENT: You must feed a value for placeholder tensor 'inputs' with dtype float and shape [?,1,50301]\n",
      "\t [[{{node inputs}}]]\n",
      "2023-06-03 22:57:56.979794: I tensorflow/core/common_runtime/executor.cc:1197] [/device:CPU:0] (DEBUG INFO) Executor start aborting (this does not indicate an error and you can ignore this message): INVALID_ARGUMENT: You must feed a value for placeholder tensor 'inputs' with dtype float and shape [?,1,50301]\n",
      "\t [[{{node inputs}}]]\n",
      "2023-06-03 22:57:56.997695: I tensorflow/core/common_runtime/executor.cc:1197] [/device:CPU:0] (DEBUG INFO) Executor start aborting (this does not indicate an error and you can ignore this message): INVALID_ARGUMENT: You must feed a value for placeholder tensor 'input_4' with dtype float and shape [?,1,50301]\n",
      "\t [[{{node input_4}}]]\n",
      "2023-06-03 22:57:57.008634: I tensorflow/core/common_runtime/executor.cc:1197] [/device:CPU:0] (DEBUG INFO) Executor start aborting (this does not indicate an error and you can ignore this message): INVALID_ARGUMENT: You must feed a value for placeholder tensor 'inputs' with dtype float and shape [?,1,50301]\n",
      "\t [[{{node inputs}}]]\n",
      "2023-06-03 22:57:57.016252: I tensorflow/core/common_runtime/executor.cc:1197] [/device:CPU:0] (DEBUG INFO) Executor start aborting (this does not indicate an error and you can ignore this message): INVALID_ARGUMENT: You must feed a value for placeholder tensor 'inputs' with dtype float and shape [?,1,50301]\n",
      "\t [[{{node inputs}}]]\n",
      "2023-06-03 22:57:57.077585: I tensorflow/core/common_runtime/executor.cc:1197] [/device:CPU:0] (DEBUG INFO) Executor start aborting (this does not indicate an error and you can ignore this message): INVALID_ARGUMENT: You must feed a value for placeholder tensor 'inputs' with dtype float and shape [?,1,50301]\n",
      "\t [[{{node inputs}}]]\n",
      "WARNING:absl:Found untraced functions such as _update_step_xla while saving (showing 1 of 1). These functions will not be directly callable after loading.\n"
     ]
    },
    {
     "name": "stdout",
     "output_type": "stream",
     "text": [
      "INFO:tensorflow:Assets written to: model_anova/assets\n"
     ]
    },
    {
     "name": "stderr",
     "output_type": "stream",
     "text": [
      "2023-06-03 22:57:57.148929: I tensorflow/core/common_runtime/executor.cc:1197] [/device:CPU:0] (DEBUG INFO) Executor start aborting (this does not indicate an error and you can ignore this message): INVALID_ARGUMENT: You must feed a value for placeholder tensor 'serving_default_input_4' with dtype float and shape [?,1,50301]\n",
      "\t [[{{node serving_default_input_4}}]]\n",
      "INFO:tensorflow:Assets written to: model_anova/assets\n"
     ]
    }
   ],
   "source": [
    "x_train_anova = np.load(\"anova.npy\")\n",
    "\n",
    "model_anova=Sequential([\n",
    "    InputLayer(input_shape=(1, 50301)),\n",
    "    # Conv1D(1024, 5, padding='same', activation='relu'),\n",
    "    # Conv1D(512, 11, padding='same', activation='relu'),\n",
    "    # Conv1D(256, 17, padding='same', activation='relu'),\n",
    "    Dense(1, activation='sigmoid')\n",
    "])\n",
    "\n",
    "model_anova.compile(optimizer = tf.optimizers.Adam(0.001),\n",
    "                    loss = tf.keras.losses.binary_crossentropy,\n",
    "                    metrics = [tf.keras.metrics.BinaryAccuracy(), tf.keras.metrics.Precision(), tf.keras.metrics.Recall()])\n",
    "\n",
    "model_anova.summary()\n",
    "\n",
    "model_anova.fit(np.reshape(x_train_anova, (25000, 1, 50301)),\n",
    "                np.reshape(y_train, (25000, 1, 1)),\n",
    "                epochs=100, batch_size=500, validation_split=.2,\n",
    "                callbacks=[tf.keras.callbacks.EarlyStopping(monitor='val_loss', patience=10, restore_best_weights=True)])\n",
    "\n",
    "model_anova.save(\"model_anova\")\n",
    "\n",
    "del x_train_anova, model_anova"
   ]
  }
 ],
 "metadata": {
  "kernelspec": {
   "display_name": "stats",
   "language": "python",
   "name": "python3"
  },
  "language_info": {
   "codemirror_mode": {
    "name": "ipython",
    "version": 3
   },
   "file_extension": ".py",
   "mimetype": "text/x-python",
   "name": "python",
   "nbconvert_exporter": "python",
   "pygments_lexer": "ipython3",
   "version": "3.11.3"
  },
  "orig_nbformat": 4,
  "vscode": {
   "interpreter": {
    "hash": "f942a99118e834f7d3f055890e9904c26c1570ba0924cf49b1aea82c97dc2f96"
   }
  }
 },
 "nbformat": 4,
 "nbformat_minor": 2
}

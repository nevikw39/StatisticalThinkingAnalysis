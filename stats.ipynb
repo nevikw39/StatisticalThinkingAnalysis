{
 "cells": [
  {
   "cell_type": "code",
   "execution_count": 1,
   "metadata": {},
   "outputs": [
    {
     "name": "stdout",
     "output_type": "stream",
     "text": [
      "time: 267 µs (started: 2023-06-03 19:55:17 +08:00)\n"
     ]
    },
    {
     "name": "stderr",
     "output_type": "stream",
     "text": [
      "Intel(R) Extension for Scikit-learn* enabled (https://github.com/intel/scikit-learn-intelex)\n"
     ]
    }
   ],
   "source": [
    "import os\n",
    "\n",
    "import numpy as np\n",
    "import cv2 as cv\n",
    "\n",
    "try:\n",
    "    from sklearnex import patch_sklearn\n",
    "    patch_sklearn()\n",
    "except:\n",
    "    pass\n",
    "\n",
    "from sklearn.feature_selection import r_regression, chi2, f_classif, SelectKBest\n",
    "from sklearn.linear_model import LogisticRegression, SGDClassifier\n",
    "from sklearn.preprocessing import StandardScaler\n",
    "from sklearn.metrics import accuracy_score, log_loss\n",
    "\n",
    "from skimage.feature import hog\n",
    "\n",
    "try:\n",
    "    %load_ext autotime\n",
    "except:\n",
    "    pass\n"
   ]
  },
  {
   "cell_type": "code",
   "execution_count": 2,
   "metadata": {},
   "outputs": [
    {
     "data": {
      "application/vnd.jupyter.widget-view+json": {
       "model_id": "a5940561dfee4dd9889e2572bddbebd0",
       "version_major": 2,
       "version_minor": 0
      },
      "text/plain": [
       "IntProgress(value=0, max=12500)"
      ]
     },
     "metadata": {},
     "output_type": "display_data"
    },
    {
     "name": "stdout",
     "output_type": "stream",
     "text": [
      "time: 11min 38s (started: 2023-06-03 17:26:57 +08:00)\n"
     ]
    }
   ],
   "source": [
    "N_TRAIN = 12500\n",
    "\n",
    "if os.path.isfile(\"cat_hog.npy\") and os.path.isfile(\"dog_hog.npy\"):\n",
    "    cat = np.load(\"cat_hog.npy\")\n",
    "    dog = np.load(\"dog_hog.npy\")\n",
    "else:\n",
    "    from ipywidgets import IntProgress\n",
    "    from IPython.display import display\n",
    "    p = IntProgress(max=N_TRAIN)\n",
    "    display(p)\n",
    "    cat, dog = np.ndarray((N_TRAIN, 72900), dtype=np.float32), np.ndarray(\n",
    "        (N_TRAIN, 72900), dtype=np.float32)\n",
    "    p.description = \"Cat\"\n",
    "    for i in range(N_TRAIN):\n",
    "        p.value = i\n",
    "        cat[i] = hog(cv.resize(cv.imread(f\"train/cat.{i}.jpg\"), (256, 256)),\n",
    "                     orientations=9,  # 將梯度的角度分到9個方向\n",
    "                     pixels_per_cell=(8, 8),  # 每個cell裡有多少像素\n",
    "                     cells_per_block=(3, 3),  # 每個block裡有多少cell\n",
    "                     block_norm='L2-Hys',  # block內的normalization方法\n",
    "                     visualize=False,  # 是否輸出視覺化矩陣\n",
    "                     transform_sqrt=False,  # 是否預處理照片\n",
    "                     feature_vector=True,  # 是否把特徵攤平成1D\n",
    "                     channel_axis=-1  # RGB的維度是最後一個 (256*256*3)\n",
    "                     )\n",
    "    p.description = \"Dog\"\n",
    "    for i in range(N_TRAIN):\n",
    "        p.value = i\n",
    "        dog[i] = hog(cv.resize(cv.imread(f\"train/dog.{i}.jpg\"), (256, 256)),\n",
    "                     orientations=9,  # 將梯度的角度分到9個方向\n",
    "                     pixels_per_cell=(8, 8),  # 每個cell裡有多少像素\n",
    "                     cells_per_block=(3, 3),  # 每個block裡有多少cell\n",
    "                     block_norm='L2-Hys',  # block內的normalization方法\n",
    "                     visualize=False,  # 是否輸出視覺化矩陣\n",
    "                     transform_sqrt=False,  # 是否預處理照片\n",
    "                     feature_vector=True,  # 是否把特徵攤平成1D\n",
    "                     channel_axis=-1  # RGB的維度是最後一個 (256*256*3)\n",
    "                     )\n",
    "    p.description = \"Done\"\n",
    "    np.save(\"cat_hog.npy\", cat)\n",
    "    np.save(\"dog_hog.npy\", dog)\n"
   ]
  },
  {
   "cell_type": "code",
   "execution_count": 3,
   "metadata": {},
   "outputs": [
    {
     "name": "stdout",
     "output_type": "stream",
     "text": [
      "time: 1min 21s (started: 2023-06-03 17:38:36 +08:00)\n"
     ]
    }
   ],
   "source": [
    "N_TRAIN = 12500\n",
    "\n",
    "if os.path.isfile(\"cat_hog.npy\") and os.path.isfile(\"dog_hog.npy\"):\n",
    "    cat = np.load(\"cat_hog.npy\")\n",
    "    dog = np.load(\"dog_hog.npy\")\n",
    "else:\n",
    "    from joblib import Parallel, delayed\n",
    "    def f(x: bool, i: int):\n",
    "        return hog(cv.resize(cv.imread(f\"train/{('cat', 'dog')[x]}.{i}.jpg\"), (256, 256)),\n",
    "                       orientations=9,  # 將梯度的角度分到9個方向\n",
    "                       pixels_per_cell=(8, 8),  # 每個cell裡有多少像素\n",
    "                       cells_per_block=(3, 3),  # 每個block裡有多少cell\n",
    "                       block_norm='L2-Hys',  # block內的normalization方法\n",
    "                       visualize=False,  # 是否輸出視覺化矩陣\n",
    "                       transform_sqrt=False,  # 是否預處理照片\n",
    "                       feature_vector=True,  # 是否把特徵攤平成1D\n",
    "                       channel_axis=-1  # RGB的維度是最後一個 (256*256*3)\n",
    "                       )\n",
    "    cat = np.array(Parallel(n_jobs=-1)(delayed(f)(False, i) for i in range(N_TRAIN)))\n",
    "    dog = np.array(Parallel(n_jobs=-1)(delayed(f)(True, i) for i in range(N_TRAIN)))\n",
    "    np.save(\"cat_hog.npy\", cat)\n",
    "    np.save(\"dog_hog.npy\", dog)\n"
   ]
  },
  {
   "cell_type": "code",
   "execution_count": 2,
   "metadata": {},
   "outputs": [
    {
     "name": "stdout",
     "output_type": "stream",
     "text": [
      "time: 11.3 s (started: 2023-06-03 19:55:23 +08:00)\n"
     ]
    }
   ],
   "source": [
    "N_TRAIN = 12500\n",
    "\n",
    "cat = np.load(\"cat_hog.npy\")\n",
    "dog = np.load(\"dog_hog.npy\")\n",
    "\n",
    "x_train = np.concatenate([cat, dog])\n",
    "y_train = np.concatenate([np.zeros(N_TRAIN, dtype=int), np.ones(N_TRAIN, dtype=int)])"
   ]
  },
  {
   "cell_type": "code",
   "execution_count": 3,
   "metadata": {},
   "outputs": [
    {
     "name": "stdout",
     "output_type": "stream",
     "text": [
      "time: 12.3 s (started: 2023-06-03 19:55:38 +08:00)\n"
     ]
    }
   ],
   "source": [
    "from joblib import parallel_backend\n",
    "\n",
    "with parallel_backend(\"loky\", n_jobs=-1):\n",
    "    if os.path.exists(\"pearson.npy\"):\n",
    "        x_train_pearson = np.load(\"pearson.npy\")\n",
    "    else:\n",
    "        x_train_pearson = SelectKBest(r_regression, k=729*69).fit_transform(x_train, y_train)\n",
    "        np.save(\"pearson.npy\", x_train_pearson)\n",
    "    if os.path.exists(\"chi_square.npy\"):\n",
    "        x_train_chi_square = np.load(\"chi_square.npy\")\n",
    "    else:\n",
    "        x_train_chi_square = SelectKBest(chi2, k=729*69).fit_transform(x_train, y_train)\n",
    "        np.save(\"chi_square.npy\", x_train_chi_square)\n",
    "    if os.path.exists(\"anova.npy\"):\n",
    "        x_train_anova = np.load(\"anova.npy\")\n",
    "    else:\n",
    "        x_train_anova = SelectKBest(f_classif, k=729*69).fit_transform(x_train, y_train)\n",
    "        np.save(\"anova.npy\", x_train_anova)"
   ]
  },
  {
   "cell_type": "code",
   "execution_count": 4,
   "metadata": {},
   "outputs": [
    {
     "name": "stderr",
     "output_type": "stream",
     "text": [
      "/home/nevikw/miniconda3/envs/stats/lib/python3.11/site-packages/daal4py/sklearn/linear_model/logistic_path.py:574: ConvergenceWarning: lbfgs failed to converge (status=1):\n",
      "STOP: TOTAL NO. of ITERATIONS REACHED LIMIT.\n",
      "\n",
      "Increase the number of iterations (max_iter) or scale the data as shown in:\n",
      "    https://scikit-learn.org/stable/modules/preprocessing.html\n",
      "Please also refer to the documentation for alternative solver options:\n",
      "    https://scikit-learn.org/stable/modules/linear_model.html#logistic-regression\n",
      "  n_iter_i = _check_optimize_result(\n"
     ]
    },
    {
     "name": "stdout",
     "output_type": "stream",
     "text": [
      "Pearson\n"
     ]
    },
    {
     "name": "stderr",
     "output_type": "stream",
     "text": [
      "/home/nevikw/miniconda3/envs/stats/lib/python3.11/site-packages/daal4py/sklearn/linear_model/logistic_path.py:574: ConvergenceWarning: lbfgs failed to converge (status=1):\n",
      "STOP: TOTAL NO. of ITERATIONS REACHED LIMIT.\n",
      "\n",
      "Increase the number of iterations (max_iter) or scale the data as shown in:\n",
      "    https://scikit-learn.org/stable/modules/preprocessing.html\n",
      "Please also refer to the documentation for alternative solver options:\n",
      "    https://scikit-learn.org/stable/modules/linear_model.html#logistic-regression\n",
      "  n_iter_i = _check_optimize_result(\n"
     ]
    },
    {
     "name": "stdout",
     "output_type": "stream",
     "text": [
      "Chi-square\n"
     ]
    },
    {
     "name": "stderr",
     "output_type": "stream",
     "text": [
      "/home/nevikw/miniconda3/envs/stats/lib/python3.11/site-packages/daal4py/sklearn/linear_model/logistic_path.py:574: ConvergenceWarning: lbfgs failed to converge (status=1):\n",
      "STOP: TOTAL NO. of ITERATIONS REACHED LIMIT.\n",
      "\n",
      "Increase the number of iterations (max_iter) or scale the data as shown in:\n",
      "    https://scikit-learn.org/stable/modules/preprocessing.html\n",
      "Please also refer to the documentation for alternative solver options:\n",
      "    https://scikit-learn.org/stable/modules/linear_model.html#logistic-regression\n",
      "  n_iter_i = _check_optimize_result(\n"
     ]
    },
    {
     "name": "stdout",
     "output_type": "stream",
     "text": [
      "ANOVA\n",
      "time: 7min 44s (started: 2023-06-03 19:56:00 +08:00)\n"
     ]
    }
   ],
   "source": [
    "from joblib import load, dump\n",
    "\n",
    "with parallel_backend(\"loky\", n_jobs=-1):\n",
    "    if os.path.exists(\"model.joblib\"):\n",
    "        model = load(\"model.joblib\")\n",
    "    else:\n",
    "        model = LogisticRegression(penalty=None) #, solver=\"newton-cholesky\")\n",
    "        model.fit(x_train, y_train)\n",
    "        dump(model, \"model.joblib\")\n",
    "    print(\"Pearson\")\n",
    "    if os.path.exists(\"model_pearson.joblib\"):\n",
    "        model = load(\"model_pearson.joblib\")\n",
    "    else:\n",
    "        model_pearson = LogisticRegression(penalty=None) #, solver=\"newton-cholesky\")\n",
    "        model_pearson.fit(x_train_pearson, y_train)\n",
    "        dump(model_pearson, \"model_pearson.joblib\")\n",
    "    print(\"Chi-square\")\n",
    "    if os.path.exists(\"model_chi_square.joblib\"):\n",
    "        model = load(\"model_chi_square.joblib\")\n",
    "    else:\n",
    "        model_chi_square = LogisticRegression(penalty=None) #, solver=\"newton-cholesky\")\n",
    "        model_chi_square.fit(x_train_chi_square, y_train)\n",
    "        dump(model_chi_square, \"model_chi_square.joblib\")\n",
    "    print(\"ANOVA\")\n",
    "    if os.path.exists(\"model_anova.joblib\"):\n",
    "        model = load(\"model_anova.joblib\")\n",
    "    else:\n",
    "        model_anova = LogisticRegression(penalty=None) #, solver=\"saga\")\n",
    "        model_anova.fit(x_train_anova, y_train)\n",
    "        dump(model_anova, \"model_anova.joblib\")"
   ]
  }
 ],
 "metadata": {
  "kernelspec": {
   "display_name": "stats",
   "language": "python",
   "name": "python3"
  },
  "language_info": {
   "codemirror_mode": {
    "name": "ipython",
    "version": 3
   },
   "file_extension": ".py",
   "mimetype": "text/x-python",
   "name": "python",
   "nbconvert_exporter": "python",
   "pygments_lexer": "ipython3",
   "version": "3.11.3"
  },
  "orig_nbformat": 4,
  "vscode": {
   "interpreter": {
    "hash": "f942a99118e834f7d3f055890e9904c26c1570ba0924cf49b1aea82c97dc2f96"
   }
  }
 },
 "nbformat": 4,
 "nbformat_minor": 2
}
